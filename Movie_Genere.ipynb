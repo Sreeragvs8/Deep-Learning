{
 "cells": [
  {
   "cell_type": "code",
   "execution_count": 3,
   "id": "582c9feb-8bee-40bc-8a18-f91b897c614f",
   "metadata": {},
   "outputs": [],
   "source": [
    "import numpy as np \n",
    "import pandas as pd \n",
    "import matplotlib.pyplot as plt \n",
    "import seaborn as sns \n",
    "from sklearn.model_selection import train_test_split"
   ]
  },
  {
   "cell_type": "code",
   "execution_count": 4,
   "id": "22ce8756-bc01-456a-802f-8e06510e156e",
   "metadata": {},
   "outputs": [],
   "source": [
    "df = pd.read_csv('Movie genere classification.csv')"
   ]
  },
  {
   "cell_type": "code",
   "execution_count": 5,
   "id": "5842a3ee-e86d-4320-81fe-541bde89f0ab",
   "metadata": {},
   "outputs": [
    {
     "data": {
      "text/html": [
       "<div>\n",
       "<style scoped>\n",
       "    .dataframe tbody tr th:only-of-type {\n",
       "        vertical-align: middle;\n",
       "    }\n",
       "\n",
       "    .dataframe tbody tr th {\n",
       "        vertical-align: top;\n",
       "    }\n",
       "\n",
       "    .dataframe thead th {\n",
       "        text-align: right;\n",
       "    }\n",
       "</style>\n",
       "<table border=\"1\" class=\"dataframe\">\n",
       "  <thead>\n",
       "    <tr style=\"text-align: right;\">\n",
       "      <th></th>\n",
       "      <th>review</th>\n",
       "      <th>sentiment</th>\n",
       "    </tr>\n",
       "  </thead>\n",
       "  <tbody>\n",
       "    <tr>\n",
       "      <th>0</th>\n",
       "      <td>This movie is just crap. Even though the direc...</td>\n",
       "      <td>0</td>\n",
       "    </tr>\n",
       "    <tr>\n",
       "      <th>1</th>\n",
       "      <td>Another detailed work on the subject by Dr Dwi...</td>\n",
       "      <td>1</td>\n",
       "    </tr>\n",
       "    <tr>\n",
       "      <th>2</th>\n",
       "      <td>THE CAT O'NINE TAILS (Il Gatto a Nove Code) &lt;b...</td>\n",
       "      <td>0</td>\n",
       "    </tr>\n",
       "    <tr>\n",
       "      <th>3</th>\n",
       "      <td>Like with any movie genre, there are good gang...</td>\n",
       "      <td>0</td>\n",
       "    </tr>\n",
       "    <tr>\n",
       "      <th>4</th>\n",
       "      <td>I watched it with my mom and we were like...&lt;b...</td>\n",
       "      <td>0</td>\n",
       "    </tr>\n",
       "    <tr>\n",
       "      <th>...</th>\n",
       "      <td>...</td>\n",
       "      <td>...</td>\n",
       "    </tr>\n",
       "    <tr>\n",
       "      <th>49964</th>\n",
       "      <td>This movie is terrible. It's about some no bra...</td>\n",
       "      <td>0</td>\n",
       "    </tr>\n",
       "    <tr>\n",
       "      <th>49965</th>\n",
       "      <td>Well, what was fun... except for the fun part....</td>\n",
       "      <td>0</td>\n",
       "    </tr>\n",
       "    <tr>\n",
       "      <th>49966</th>\n",
       "      <td>By the time this film was released I had seen ...</td>\n",
       "      <td>0</td>\n",
       "    </tr>\n",
       "    <tr>\n",
       "      <th>49967</th>\n",
       "      <td>Well, if you like pop/punk, punk, ska, and a t...</td>\n",
       "      <td>0</td>\n",
       "    </tr>\n",
       "    <tr>\n",
       "      <th>49968</th>\n",
       "      <td>Where this movie is faithful to Burroughs' vis...</td>\n",
       "      <td>1</td>\n",
       "    </tr>\n",
       "  </tbody>\n",
       "</table>\n",
       "<p>49969 rows × 2 columns</p>\n",
       "</div>"
      ],
      "text/plain": [
       "                                                  review  sentiment\n",
       "0      This movie is just crap. Even though the direc...          0\n",
       "1      Another detailed work on the subject by Dr Dwi...          1\n",
       "2      THE CAT O'NINE TAILS (Il Gatto a Nove Code) <b...          0\n",
       "3      Like with any movie genre, there are good gang...          0\n",
       "4      I watched it with my mom and we were like...<b...          0\n",
       "...                                                  ...        ...\n",
       "49964  This movie is terrible. It's about some no bra...          0\n",
       "49965  Well, what was fun... except for the fun part....          0\n",
       "49966  By the time this film was released I had seen ...          0\n",
       "49967  Well, if you like pop/punk, punk, ska, and a t...          0\n",
       "49968  Where this movie is faithful to Burroughs' vis...          1\n",
       "\n",
       "[49969 rows x 2 columns]"
      ]
     },
     "execution_count": 5,
     "metadata": {},
     "output_type": "execute_result"
    }
   ],
   "source": [
    "df"
   ]
  },
  {
   "cell_type": "code",
   "execution_count": 6,
   "id": "7908fd22-d2fd-4e70-b668-2b450b4437fa",
   "metadata": {},
   "outputs": [
    {
     "data": {
      "text/html": [
       "<div>\n",
       "<style scoped>\n",
       "    .dataframe tbody tr th:only-of-type {\n",
       "        vertical-align: middle;\n",
       "    }\n",
       "\n",
       "    .dataframe tbody tr th {\n",
       "        vertical-align: top;\n",
       "    }\n",
       "\n",
       "    .dataframe thead th {\n",
       "        text-align: right;\n",
       "    }\n",
       "</style>\n",
       "<table border=\"1\" class=\"dataframe\">\n",
       "  <thead>\n",
       "    <tr style=\"text-align: right;\">\n",
       "      <th></th>\n",
       "      <th>review</th>\n",
       "      <th>sentiment</th>\n",
       "    </tr>\n",
       "  </thead>\n",
       "  <tbody>\n",
       "    <tr>\n",
       "      <th>0</th>\n",
       "      <td>This movie is just crap. Even though the direc...</td>\n",
       "      <td>0</td>\n",
       "    </tr>\n",
       "    <tr>\n",
       "      <th>1</th>\n",
       "      <td>Another detailed work on the subject by Dr Dwi...</td>\n",
       "      <td>1</td>\n",
       "    </tr>\n",
       "    <tr>\n",
       "      <th>2</th>\n",
       "      <td>THE CAT O'NINE TAILS (Il Gatto a Nove Code) &lt;b...</td>\n",
       "      <td>0</td>\n",
       "    </tr>\n",
       "    <tr>\n",
       "      <th>3</th>\n",
       "      <td>Like with any movie genre, there are good gang...</td>\n",
       "      <td>0</td>\n",
       "    </tr>\n",
       "    <tr>\n",
       "      <th>4</th>\n",
       "      <td>I watched it with my mom and we were like...&lt;b...</td>\n",
       "      <td>0</td>\n",
       "    </tr>\n",
       "  </tbody>\n",
       "</table>\n",
       "</div>"
      ],
      "text/plain": [
       "                                              review  sentiment\n",
       "0  This movie is just crap. Even though the direc...          0\n",
       "1  Another detailed work on the subject by Dr Dwi...          1\n",
       "2  THE CAT O'NINE TAILS (Il Gatto a Nove Code) <b...          0\n",
       "3  Like with any movie genre, there are good gang...          0\n",
       "4  I watched it with my mom and we were like...<b...          0"
      ]
     },
     "execution_count": 6,
     "metadata": {},
     "output_type": "execute_result"
    }
   ],
   "source": [
    "df.head()"
   ]
  },
  {
   "cell_type": "code",
   "execution_count": 7,
   "id": "390a9407-cc17-40d4-88a8-de1b62192eb1",
   "metadata": {},
   "outputs": [
    {
     "data": {
      "text/plain": [
       "<bound method DataFrame.info of                                                   review  sentiment\n",
       "0      This movie is just crap. Even though the direc...          0\n",
       "1      Another detailed work on the subject by Dr Dwi...          1\n",
       "2      THE CAT O'NINE TAILS (Il Gatto a Nove Code) <b...          0\n",
       "3      Like with any movie genre, there are good gang...          0\n",
       "4      I watched it with my mom and we were like...<b...          0\n",
       "...                                                  ...        ...\n",
       "49964  This movie is terrible. It's about some no bra...          0\n",
       "49965  Well, what was fun... except for the fun part....          0\n",
       "49966  By the time this film was released I had seen ...          0\n",
       "49967  Well, if you like pop/punk, punk, ska, and a t...          0\n",
       "49968  Where this movie is faithful to Burroughs' vis...          1\n",
       "\n",
       "[49969 rows x 2 columns]>"
      ]
     },
     "execution_count": 7,
     "metadata": {},
     "output_type": "execute_result"
    }
   ],
   "source": [
    "df.info"
   ]
  },
  {
   "cell_type": "code",
   "execution_count": 8,
   "id": "0221c30c-e44d-4c25-85c8-e5a0a72181dc",
   "metadata": {},
   "outputs": [
    {
     "data": {
      "text/html": [
       "<div>\n",
       "<style scoped>\n",
       "    .dataframe tbody tr th:only-of-type {\n",
       "        vertical-align: middle;\n",
       "    }\n",
       "\n",
       "    .dataframe tbody tr th {\n",
       "        vertical-align: top;\n",
       "    }\n",
       "\n",
       "    .dataframe thead th {\n",
       "        text-align: right;\n",
       "    }\n",
       "</style>\n",
       "<table border=\"1\" class=\"dataframe\">\n",
       "  <thead>\n",
       "    <tr style=\"text-align: right;\">\n",
       "      <th></th>\n",
       "      <th>sentiment</th>\n",
       "    </tr>\n",
       "  </thead>\n",
       "  <tbody>\n",
       "    <tr>\n",
       "      <th>count</th>\n",
       "      <td>49969.000000</td>\n",
       "    </tr>\n",
       "    <tr>\n",
       "      <th>mean</th>\n",
       "      <td>0.499950</td>\n",
       "    </tr>\n",
       "    <tr>\n",
       "      <th>std</th>\n",
       "      <td>0.500005</td>\n",
       "    </tr>\n",
       "    <tr>\n",
       "      <th>min</th>\n",
       "      <td>0.000000</td>\n",
       "    </tr>\n",
       "    <tr>\n",
       "      <th>25%</th>\n",
       "      <td>0.000000</td>\n",
       "    </tr>\n",
       "    <tr>\n",
       "      <th>50%</th>\n",
       "      <td>0.000000</td>\n",
       "    </tr>\n",
       "    <tr>\n",
       "      <th>75%</th>\n",
       "      <td>1.000000</td>\n",
       "    </tr>\n",
       "    <tr>\n",
       "      <th>max</th>\n",
       "      <td>1.000000</td>\n",
       "    </tr>\n",
       "  </tbody>\n",
       "</table>\n",
       "</div>"
      ],
      "text/plain": [
       "          sentiment\n",
       "count  49969.000000\n",
       "mean       0.499950\n",
       "std        0.500005\n",
       "min        0.000000\n",
       "25%        0.000000\n",
       "50%        0.000000\n",
       "75%        1.000000\n",
       "max        1.000000"
      ]
     },
     "execution_count": 8,
     "metadata": {},
     "output_type": "execute_result"
    }
   ],
   "source": [
    "df.describe()"
   ]
  },
  {
   "cell_type": "code",
   "execution_count": 9,
   "id": "b45de8c2-43e4-4111-a087-36cd8a28fe3b",
   "metadata": {},
   "outputs": [
    {
     "data": {
      "image/png": "[encoded data removed]",
      "text/plain": [
       "<Figure size 500x400 with 1 Axes>"
      ]
     },
     "metadata": {},
     "output_type": "display_data"
    }
   ],
   "source": [
    "plt.figure(figsize=(5,4))\n",
    "sns.countplot(y=df['sentiment'])                                          #check for imbalance data\n",
    "plt.show()"
   ]
  },
  {
   "cell_type": "code",
   "execution_count": 10,
   "id": "15543459-de90-4c59-bd6c-c4917bb4bec9",
   "metadata": {},
   "outputs": [
    {
     "data": {
      "image/png": "[encoded data removed]",
      "text/plain": [
       "<Figure size 640x480 with 1 Axes>"
      ]
     },
     "metadata": {},
     "output_type": "display_data"
    }
   ],
   "source": [
    "plt.pie(df['sentiment'].value_counts(),labels=['sentiment','count'],autopct='%0.2f')\n",
    "plt.show()"
   ]
  },
  {
   "cell_type": "code",
   "execution_count": 11,
   "id": "a1b3f44e-7921-400e-8899-00573cd4479b",
   "metadata": {},
   "outputs": [],
   "source": [
    "import re\n",
    "from nltk.corpus import stopwords \n",
    "from nltk.stem import WordNetLemmatizer"
   ]
  },
  {
   "cell_type": "code",
   "execution_count": 12,
   "id": "ae265f84-7414-4f82-bdc2-4a6ed50fee2b",
   "metadata": {},
   "outputs": [],
   "source": [
    "def preprocess(sentence): \n",
    "    text = re.sub(r\"[^a-zA-Z0-9]\",\"\",sentence).split() \n",
    "\n",
    "    words= [x.lower() for x in text if x not in stopwords.words('english')] \n",
    "\n",
    "\n",
    "    lemma = wordNetLemmatizer()\n",
    "    word = [lemma.lemmatize(word,'v') for word in words]\n",
    "\n",
    "    word = ''.join (word)\n",
    "    return word\n",
    "            \n",
    "\n"
   ]
  },
  {
   "cell_type": "code",
   "execution_count": 13,
   "id": "e41bfd71-146b-45eb-b868-6c13d88a9404",
   "metadata": {},
   "outputs": [
    {
     "name": "stdout",
     "output_type": "stream",
     "text": [
      "This movie is just crap. Even though the directors claim to be part of that oi-culture, it's still a very, very bad directorial debut. The topic itself is very interesting and I accept the bad acting due to the fact, that they are all amateurs and never acted before, but the worst thing about this film are the dialogs and very unexperienced and naive directing. There's no timing at all in that movie. I felt like the directors were so exited to do that movie (it's their first feature), that they actually never really asked themselves, what story they wanna tell. I met Ben (one of the directors) on several occasions and he's a nice and thoughtful guy, but that doesn't make him a director. I think, that \"American History X\" is full of clichÃ©s, but somehow manages to transport a story. \"Oi!Warning\" is full of clichÃ©s, doesn't tell anything new or provocative and (-that's the sad thing about this movie) it's far from any Oi!-Reality.<br /><br />If you wanna see weird but great German films, watch the movies of Michael Haneke, Christoph Schlingensief, Oskar Roehler, Hans Weingartner or Oliver Hirschbiegel:<br /><br />Benny's Video Funny Games Die UnberÃ¼hrbare Mein Letzter Film Das Experiment Das Weisse Rauschen MuxmÃ¤uschenstill ...<br /><br />*** out of ten, because of the topic and the photography\n",
      "\n",
      "Another detailed work on the subject by Dr Dwivedi takes us back in time to pre-partioned Panjab. Dr Dwivedi chose a difficult subject for his movie debut. He has worked on all meticulous details to bring the story to life. The treatment of the subject is very delicate.<br /><br />Even though we have not been to the region during that time, the sets and costumes look real. Unlike most movies made on partition, this one focuses not on the gory details of violence to attract audience, but on its after-effects. The characters come to life. Priyanshu Chatterjee has given an impressive performance. Manoj Bajpai has acted his heart out showing the plight of a guilt-ridden man. The rest of the cast has done a good job too.\n",
      "\n",
      "THE CAT O'NINE TAILS (Il Gatto a Nove Code) <br /><br />Aspect ratio: 2.35:1 (Cromoscope)<br /><br />Sound format: Mono<br /><br />(35mm and 70mm release prints)<br /><br />A blind ex-journalist (Karl Malden) overhears a blackmail plot outside a genetics research laboratory and later teams up with a fellow reporter (James Franciscus) to investigate a series of murders at the lab, unwittingly placing their own loved ones at the mercy of a psychopathic killer.<br /><br />Rushed into production following the unexpected worldwide success of his directorial debut THE BIRD WITH THE CRYSTAL PLUMAGE (1969), Dario Argento conceived THE CAT O'NINE TAILS as a giallo-thriller in much the same vein as its forerunner, toplining celebrated Hollywood actor Karl Malden - fresh from his appearance in PATTON (1969) - and rising star Franciscus (THE VALLEY OF GWANGI). Sadly, the resulting film - which the ads claimed was 'nine times more suspenseful' than \"Bird\" - is a disappointing follow-up, impeccably photographed and stylishly executed, but too plodding and aimless for general consumption.<br /><br />Malden and Franciscus are eminently watchable in sympathetic roles, and cinematographer Enrico Menczer (THE DEAD ARE ALIVE) uses the wide Cromoscope frame to convey the hi-tech world in which Argento's dark-hearted scenario unfolds, but the subplot involving Euro starlet Catherine Spaak (THE LIBERTINE) as Franciscus' romantic interest amounts to little more than unnecessary padding. Highlights include an unforgettable encounter with the black-gloved assassin in a crowded railway station (edited with sleek assurance by cult movie stalwart Franco Fraticelli), and a nocturnal episode in which Malden and Franciscus seek an important clue inside a mouldering tomb and fall prey to the killer's devious machinations. But despite these flashes of brilliance, the film rambles aimlessly from one scene to the next, simmering gently without ever really coming to the boil. It's no surprise that \"Cat\" failed to emulate the runaway success of \"Bird\" when released in 1971.<br /><br />(English version)\n",
      "\n",
      "Like with any movie genre, there are good gangster movies and there are bad gangster movies. If you asked me to name a good gangster movie, I'd have dozens to choose from. If you asked me to name a bad gangster movie, probably the first one to pop up in my mind is one that still has me in a sort of depression of disappointment about a week since I saw the film for the first and I promise you, the last time. That film is \"The General\", unrelated to the 1926 silent film of the same name. This is a very dry, very slow gangster epic that raises questions not about the story (it's more than easy to follow) but about why the filmmakers chose to make this rather flimsy endeavor.<br /><br />Like \"Goodfellas\" (1990) and \"American Gangster\" (2007)Â—two superior mob moviesÂ—\"The General\" is based on real people and true events. The film revolves around an Irish criminal named Martin Cahill (Brendan Gleeson) who started his long chain of crimes stealing food as a teenager and then moving up to robbing museums and houses as an adult. Meanwhile, the police led by an inspector named Kenny (Jon Voight) try desperately and vigorously to prove just one of his crimes and convict (or kill) him.<br /><br />Perhaps because it's a film in the same category as the marvelous \"Goodfellas\" (1990) and the first two \"Godfather\" films, I was expecting too much from \"The General.\" But that may be going too easy on it. This would have been a bad film had I not seen the aforementioned masterpieces before being swamped by boredom in this oater and its far-too-stretched running time of screaming bad scenes. Let's start knocking the film by just looking at the style in which it is presented. For some reason, director John Boorman and cinematographer Seamus Deasy selected to film this movie in black-and-white while its style and presentation are clearly the elements that belong to a full-fledged color film. Now I have nothing against b/w pictures, not even ones made in modern-day times. \"Schindler's List\" (1993) was more than ninety percent filmed in black-and-white and it's a masterpiece. \"The General\", made just five years after \"Schindler's List\" is not. The cinematography is also far too blown out with high lighting keys that seem very distracting and give the movie a very video-game-like quality that I found simply annoying. The filmmakers were obviously going for a realist's documentary-like style, like \"Schindler's List\" did, but they fail by making it seem too much like a documentary and at the same time, too much like a classic-style motion picture. Performances in the film range from passable to poor. Brendan Gleeson and Jon Voight gave decent enthusiasm for their roles, but it seemed to me at times that even they were getting kind of run down by the awful screenplay from which they were quoting. The sound design is also very primitive, probably in an attempt to give it a 40s crime-noir appeal, but that also fails because again, it's made too much like a contemporary picture and seems vastly out of place.<br /><br />But the worst thing that occurs is that there's not oneÂ—not oneÂ—character in the film that I felt any emotions or opinions for. In fact, for every moment of every scene, the only thought going through my head was \"okayÂ…so what?\" Moments that in a better film might come across as shocking or appalling are just dull and time-consuming here. I did not sympathize or hate the Brendan Gleeson character because the way the Cahill character is written is simply flat and dull. Gleeson just plays the common criminal and does not strike out with the impact the real Martin Cahill obviously did. If a character is killed off (as they always are in gangster films), we feel nothing. No remorse, no relief, no surprise, nothing. We just say \"so what?\" And that's all I did during the entire running time of this very flimsy, very poorly-made crime film.\n",
      "\n",
      "I watched it with my mom and we were like...<br /><br />What the hell? We didn't get it at all. I may have this wrong, but a chair had something to do with the death of this woman's father. That movie was terrible! This is not a movie for those who love a good suspense movie. Bad suspense movie! *shakes cane at movie* I'm never seeing it again. And I'm a big fan of lifetime movies, too! They kinda need to quit trying to make movies outta books. It's driving me crazy!!!<br /><br />And Whit was butt-ugly and yet, she loves him more than Hugh, who was a TINY bit nicer-looking.<br /><br />My rating: 1/10\n",
      "\n",
      "This movie is probably one of 3 worst movies made in history. I rented this by chance, without reading reviews, and wow, do I regret it. Really has no plot, doesn't really follow the vampire genre. Just plain god awful. Watching this movie will taint your enthusiasm for vampire movies. I felt like the writer/director/producer went on this drug binge and had hallucinations and tried to recreate it on film. Whole time I wanted the movie to end.. but the ending was even more whacked. <br /><br />If this review can save just one person from watching this crap, I felt my time spent on registration and writing this review was well worth it.\n",
      "\n",
      "this movie is quite bad, aggressive, not played well, not directed well, seems low budget, low quality,emotionaly weak and disconnected. after watching earlier comments, went to see it, but if u try to compare it with apocalypse now, PLATOON, or any others, u'r really off the tracks. this movie looks like a 60's old and purely made film with cast of grown neanderthals, not to mention (or actually do), not paying attention to details like changing rounds, low budget fireworks and all sorts of poorly filmed characteristic. is watchable though, if u'd like to see it as an early development of the movies document.. not to go back!!<br /><br />p.s - afterall, the guys are quite alright.\n",
      "\n",
      "And a perfect film to watch during the holiday season as the winter/Xmas atmosphere that Burton creates for Gotham City is way cool. It's weird that Warner decided to release this as a summer film. It doesn't fit.<br /><br />But what's even weirder, when you consider the content of this film, is that it was aimed at families. An upper-class family throws their mutant baby down the sewer, a socio phobic billionaire dresses up in leather as a flying rodent, a lonely secretary dresses up in leather as a feline and a freak runs for political office. And S&M and bondage are presented in a very perverted way. But Burton got away with it. His visual style in this film is at it's best.<br /><br />This and Batman: Dead End are the only true live-action incarnations of the comic-book character. True, the animated series was the closest to the source material, but compared with Batman Forever and the un-nameable one after that, Batman Returns is the best of the four.<br /><br />Darker and more violent than the first movie, the sense of Gothic pathos reaches a new high. I was quite keen on Michael Keaton as Bruce Wayne (don't even get me started on George Clooney!), he displayed the right balance of weirdo loner and cool crime fighter. Michelle Pfieffer is great as Catwoman (much sexier and more 'realisticly' cat-like), she wears that leather outfit better than Halle Berry. And Danny DeVito was so convincing as the Penguin that his scenes became disturbing to watch. And Christopher Walken is brilliant as the spooky Max Shreck (if you think you recognise Chip Shrek it's none other than a very young Leatherface/Butterfinger).<br /><br />Danny Elfman's score is also even better than it was first time round. His powerful and engaging themes are way better than the dross that followed in the later 2 Schumacher movies. This movie is the Batman phenomenon at its Zenith. Forget the following sequels and stick to the animated series after this. Let's hope that Christopher Nolan and Christian Bale can bring some integrity back to the live action Batman with their movie next year.<br /><br />This DVD was one of the first ever DVDs released by Warner (almost 7 years ago!!!) and as a result there are NO features and the case is a snapper. Pick it up cheap like I did and hope for an SE in the future.\n",
      "\n",
      "I like Noel Coward, the wit. I like Noel Coward, the play write. I like Noel Coward, the composer and singer, but I loathe Noel Coward the actor.<br /><br />To me this is a man who should have stayed firmly behind the scenes, writing his plays and composing his music and making his profound and hilarious observations. He should never have been allowed in front of a camera.<br /><br />Make no mistake, he is one of the top outstanding talents of the 20th century but the man just couldn't act, and his voice...with it's rolling R's and it's overly round tonal quality...well it could quite easily grate cheese in my opinion.<br /><br />This is one of my least favourite offerings from Coward, as he unconvincingly portrays a psychiatrist embarking on an affair with a much younger woman, made worse by the fact that the much younger woman is an old school friend of his much younger wife.<br /><br />Celia Johnson is as much a joy to watch as ever as Cowards wronged wife. It is her performance that saves this film from abject dullness. I suppose her own little fling in Coward's Brief Encounter four years previously qualified her for this role as she must have raised a few eyebrows playing a such a promiscuous woman and this gave her the chance to win back a few fans and gain some lost sympathy.<br /><br />She was such a wonderful actress and you can see why Noel Coward used her so much in many of his productions.<br /><br />However the rest of the film is drab, badly acted, predictable and on the whole boring to almost arse-clenching level.<br /><br />If its Noel Coward you want then take the time to watch In Which We Serve, Blythe Spirit or This Happy Breed instead. Three Noel Coward treasures. With lovely films like these I suppose we can forgive him for this turkey.<br /><br />I have given this four stars purely for the addition of Miss Johnson, but on the whole I'd avoid this one like the plague.\n",
      "\n",
      "\"The Days\" is a typical family drama with a little catch - you must relate to the character's emotions in every way possible in order for you to truly appreciate the show.<br /><br />[Possible Spoilers For Those Who Are Unfamiliar With the Show]<br /><br />The story, obviously, for all the people who has watched the show, is the world of Cooper Day, the middle child of the family. He records his days with his family and hopes to become a rich and famous writer one day because of his observations. His family includes a mother, a father, a perfect sister, and a genius-little-brother. The first episode, which is going to sound a bit stupid since John Scott Shepard has created this situation - both the sister and mother gets pregnant. That's the first situation the writer hits. Then the father quits his job at the law firm. The youngest son gets a panic attack. The middle child gets in a fight with the sister's boyfriend. This is all in a day's work.<br /><br />[/Spoilers]<br /><br />I admire this show. I don't know. It's a bit crappy but I like it. First I thought the camera-work was a ripoff but then I got used it and started to like it. I liked the quiet conversations under a dark light. I liked the intimate feeling of the show. I liked the low-budget style. I liked the acting. I admire the story. Then I find myself wanting a second season of The Days. I slowly became a fan of it as the 6-episode airing on ABC came to an end. It's a really good show and it's nothing like The OC. The two have nothing in common. So I hope fans will stop comparing them.<br /><br />And if you can relate to either Abby, Jack, Natalie, Cooper or even Nate, you'll like this show. A lot.\n",
      "\n"
     ]
    }
   ],
   "source": [
    "for i in range (10): \n",
    "    print(df['review'][i])\n",
    "    print()"
   ]
  },
  {
   "cell_type": "code",
   "execution_count": 14,
   "id": "bb59b674-cbe7-4afa-b0f7-270b03c2cb7c",
   "metadata": {},
   "outputs": [],
   "source": [
    "x= df['review']                                             #split the data into x and y\n",
    "y = df['sentiment']"
   ]
  },
  {
   "cell_type": "code",
   "execution_count": 15,
   "id": "6a5aa11a-2269-4000-8a44-8f5371b933bf",
   "metadata": {},
   "outputs": [
    {
     "data": {
      "text/html": [
       "<div>\n",
       "<style scoped>\n",
       "    .dataframe tbody tr th:only-of-type {\n",
       "        vertical-align: middle;\n",
       "    }\n",
       "\n",
       "    .dataframe tbody tr th {\n",
       "        vertical-align: top;\n",
       "    }\n",
       "\n",
       "    .dataframe thead th {\n",
       "        text-align: right;\n",
       "    }\n",
       "</style>\n",
       "<table border=\"1\" class=\"dataframe\">\n",
       "  <thead>\n",
       "    <tr style=\"text-align: right;\">\n",
       "      <th></th>\n",
       "      <th>review</th>\n",
       "      <th>sentiment</th>\n",
       "    </tr>\n",
       "  </thead>\n",
       "  <tbody>\n",
       "    <tr>\n",
       "      <th>0</th>\n",
       "      <td>This movie is just crap. Even though the direc...</td>\n",
       "      <td>0</td>\n",
       "    </tr>\n",
       "    <tr>\n",
       "      <th>1</th>\n",
       "      <td>Another detailed work on the subject by Dr Dwi...</td>\n",
       "      <td>1</td>\n",
       "    </tr>\n",
       "    <tr>\n",
       "      <th>2</th>\n",
       "      <td>THE CAT O'NINE TAILS (Il Gatto a Nove Code) &lt;b...</td>\n",
       "      <td>0</td>\n",
       "    </tr>\n",
       "    <tr>\n",
       "      <th>3</th>\n",
       "      <td>Like with any movie genre, there are good gang...</td>\n",
       "      <td>0</td>\n",
       "    </tr>\n",
       "    <tr>\n",
       "      <th>4</th>\n",
       "      <td>I watched it with my mom and we were like...&lt;b...</td>\n",
       "      <td>0</td>\n",
       "    </tr>\n",
       "    <tr>\n",
       "      <th>...</th>\n",
       "      <td>...</td>\n",
       "      <td>...</td>\n",
       "    </tr>\n",
       "    <tr>\n",
       "      <th>49964</th>\n",
       "      <td>This movie is terrible. It's about some no bra...</td>\n",
       "      <td>0</td>\n",
       "    </tr>\n",
       "    <tr>\n",
       "      <th>49965</th>\n",
       "      <td>Well, what was fun... except for the fun part....</td>\n",
       "      <td>0</td>\n",
       "    </tr>\n",
       "    <tr>\n",
       "      <th>49966</th>\n",
       "      <td>By the time this film was released I had seen ...</td>\n",
       "      <td>0</td>\n",
       "    </tr>\n",
       "    <tr>\n",
       "      <th>49967</th>\n",
       "      <td>Well, if you like pop/punk, punk, ska, and a t...</td>\n",
       "      <td>0</td>\n",
       "    </tr>\n",
       "    <tr>\n",
       "      <th>49968</th>\n",
       "      <td>Where this movie is faithful to Burroughs' vis...</td>\n",
       "      <td>1</td>\n",
       "    </tr>\n",
       "  </tbody>\n",
       "</table>\n",
       "<p>49969 rows × 2 columns</p>\n",
       "</div>"
      ],
      "text/plain": [
       "                                                  review  sentiment\n",
       "0      This movie is just crap. Even though the direc...          0\n",
       "1      Another detailed work on the subject by Dr Dwi...          1\n",
       "2      THE CAT O'NINE TAILS (Il Gatto a Nove Code) <b...          0\n",
       "3      Like with any movie genre, there are good gang...          0\n",
       "4      I watched it with my mom and we were like...<b...          0\n",
       "...                                                  ...        ...\n",
       "49964  This movie is terrible. It's about some no bra...          0\n",
       "49965  Well, what was fun... except for the fun part....          0\n",
       "49966  By the time this film was released I had seen ...          0\n",
       "49967  Well, if you like pop/punk, punk, ska, and a t...          0\n",
       "49968  Where this movie is faithful to Burroughs' vis...          1\n",
       "\n",
       "[49969 rows x 2 columns]"
      ]
     },
     "execution_count": 15,
     "metadata": {},
     "output_type": "execute_result"
    }
   ],
   "source": [
    "df"
   ]
  },
  {
   "cell_type": "code",
   "execution_count": 16,
   "id": "9efa86c9-1cc8-4b2e-addc-cfda4e19dd4b",
   "metadata": {},
   "outputs": [],
   "source": [
    "from sklearn.feature_extraction.text import CountVectorizer"
   ]
  },
  {
   "cell_type": "code",
   "execution_count": 17,
   "id": "adf5a2d8-d37a-4ad3-9651-7e6fb74e4a8e",
   "metadata": {},
   "outputs": [],
   "source": [
    "df = pd.DataFrame(x)"
   ]
  },
  {
   "cell_type": "code",
   "execution_count": 18,
   "id": "bd028588-5d56-4a09-8dc8-45e7f9ec5514",
   "metadata": {},
   "outputs": [],
   "source": [
    "vectorizer = CountVectorizer(binary=True,max_features=10000)\n",
    "binarymatrix = vectorizer.fit_transform(df['review'])"
   ]
  },
  {
   "cell_type": "code",
   "execution_count": 19,
   "id": "f136068c-9112-4b1c-aaef-af2486e21968",
   "metadata": {},
   "outputs": [],
   "source": [
    "from tensorflow.keras.preprocessing.text import Tokenizer\n",
    "from tensorflow.keras.preprocessing.sequence import pad_sequences"
   ]
  },
  {
   "cell_type": "code",
   "execution_count": 20,
   "id": "4dd45f9c-84ca-48ee-a68f-6b520dd83357",
   "metadata": {},
   "outputs": [],
   "source": [
    "tokenizer = Tokenizer (num_words=10000)"
   ]
  },
  {
   "cell_type": "code",
   "execution_count": null,
   "id": "edf1bc41-2d53-4280-a67a-66fa09a14f55",
   "metadata": {},
   "outputs": [],
   "source": []
  },
  {
   "cell_type": "markdown",
   "id": "24ac7c21-c467-452e-8f2e-bd973c86f175",
   "metadata": {},
   "source": [
    "## Spliting the xtest,ytest,xtrain,y train"
   ]
  },
  {
   "cell_type": "code",
   "execution_count": 22,
   "id": "08f8529e-d2ed-4fbb-b843-12dd1e897aa0",
   "metadata": {},
   "outputs": [],
   "source": [
    "xtrain,xtest,ytrain,ytest = train_test_split(x,y,test_size=0.20)"
   ]
  },
  {
   "cell_type": "code",
   "execution_count": 23,
   "id": "c0d88e87-af8e-46d8-a0e6-f015c18c69f5",
   "metadata": {},
   "outputs": [
    {
     "data": {
      "text/plain": [
       "0        This movie is just crap. Even though the direc...\n",
       "1        Another detailed work on the subject by Dr Dwi...\n",
       "2        THE CAT O'NINE TAILS (Il Gatto a Nove Code) <b...\n",
       "3        Like with any movie genre, there are good gang...\n",
       "4        I watched it with my mom and we were like...<b...\n",
       "                               ...                        \n",
       "49964    This movie is terrible. It's about some no bra...\n",
       "49965    Well, what was fun... except for the fun part....\n",
       "49966    By the time this film was released I had seen ...\n",
       "49967    Well, if you like pop/punk, punk, ska, and a t...\n",
       "49968    Where this movie is faithful to Burroughs' vis...\n",
       "Name: review, Length: 49969, dtype: object"
      ]
     },
     "execution_count": 23,
     "metadata": {},
     "output_type": "execute_result"
    }
   ],
   "source": [
    "x"
   ]
  },
  {
   "cell_type": "code",
   "execution_count": 24,
   "id": "2733681c-8f03-4ca4-9b95-33c20279c807",
   "metadata": {},
   "outputs": [],
   "source": [
    "def text_encoding(x):\n",
    "    seq = tokenizer.texts_to_sequences(x)\n",
    "    seq = pad_sequences(seq, maxlen=65, padding='post')\n",
    "    return seq"
   ]
  },
  {
   "cell_type": "code",
   "execution_count": 25,
   "id": "0698ba17-6b23-4952-a05b-902e8869dd68",
   "metadata": {},
   "outputs": [],
   "source": [
    "tokenizer.fit_on_texts(xtrain)\n",
    "xtrain = text_encoding(xtrain)\n",
    "xtest = text_encoding(xtest)"
   ]
  },
  {
   "cell_type": "code",
   "execution_count": 26,
   "id": "0047e80a-de9c-44bf-8250-d4a8dc68a5eb",
   "metadata": {},
   "outputs": [
    {
     "data": {
      "text/plain": [
       "array([[   9,    6,   24, ..., 1052,    7,    7],\n",
       "       [ 626,   12,   11, ...,   11,   10,  164],\n",
       "       [   7,    7,   27, ...,    3, 7327,  361],\n",
       "       ...,\n",
       "       [  11,   17,   45, ...,    0,    0,    0],\n",
       "       [ 837,   20,  869, ...,  800,  189,   54],\n",
       "       [  20,  837,    2, ...,  234,  155,  407]])"
      ]
     },
     "execution_count": 26,
     "metadata": {},
     "output_type": "execute_result"
    }
   ],
   "source": [
    "xtrain"
   ]
  },
  {
   "cell_type": "code",
   "execution_count": 27,
   "id": "498a931f-16d9-4b99-952b-6f08273cb804",
   "metadata": {},
   "outputs": [
    {
     "data": {
      "text/plain": [
       "array([[2943,   43,  123, ...,    0,    0,    0],\n",
       "       [   1,   86, 7836, ...,    7,  725,  155],\n",
       "       [  71, 2624,    5, ...,   37,   56, 1713],\n",
       "       ...,\n",
       "       [  77,    9,   34, ..., 1210,    8, 1085],\n",
       "       [ 421,  491,    2, ...,  596,   12,  400],\n",
       "       [   5,  501,  629, ...,   13,  487,  487]])"
      ]
     },
     "execution_count": 27,
     "metadata": {},
     "output_type": "execute_result"
    }
   ],
   "source": [
    "xtest"
   ]
  },
  {
   "cell_type": "code",
   "execution_count": 28,
   "id": "f0eb77f5-329c-4901-ac39-f48e25adebec",
   "metadata": {},
   "outputs": [],
   "source": [
    "ytrain = np.array(ytrain).reshape(-1, 1)"
   ]
  },
  {
   "cell_type": "code",
   "execution_count": 29,
   "id": "80403aad-8d32-473d-89ad-3b9988ee49ca",
   "metadata": {},
   "outputs": [
    {
     "data": {
      "text/plain": [
       "array([[1],\n",
       "       [0],\n",
       "       [1],\n",
       "       ...,\n",
       "       [1],\n",
       "       [0],\n",
       "       [0]], dtype=int64)"
      ]
     },
     "execution_count": 29,
     "metadata": {},
     "output_type": "execute_result"
    }
   ],
   "source": [
    "ytrain"
   ]
  },
  {
   "cell_type": "code",
   "execution_count": 30,
   "id": "9c9460ae-a9ea-4461-9b11-acd23736cec7",
   "metadata": {},
   "outputs": [
    {
     "data": {
      "text/plain": [
       "(39975, 65)"
      ]
     },
     "execution_count": 30,
     "metadata": {},
     "output_type": "execute_result"
    }
   ],
   "source": [
    "xtrain.shape"
   ]
  },
  {
   "cell_type": "code",
   "execution_count": 31,
   "id": "0b50f050-9c84-4def-8b5a-dae778a528c2",
   "metadata": {},
   "outputs": [
    {
     "data": {
      "text/plain": [
       "(39975, 1)"
      ]
     },
     "execution_count": 31,
     "metadata": {},
     "output_type": "execute_result"
    }
   ],
   "source": [
    "ytrain.shape"
   ]
  },
  {
   "cell_type": "code",
   "execution_count": 32,
   "id": "9e38c718-375d-488a-943c-30010d0e18c4",
   "metadata": {},
   "outputs": [],
   "source": [
    "vocab_size = len(tokenizer.word_index) +1\n",
    "def text_encoding(): \n",
    "\n",
    "    encoded_docs = tokenizert.texts_to_sequences(txt)\n",
    "\n",
    "    padded_sequence = pad_sequences(encoded_docs,max= 128)\n",
    "\n",
    "    return padded_sequence\n",
    "    "
   ]
  },
  {
   "cell_type": "code",
   "execution_count": 33,
   "id": "6f8dc5e4-80a8-41d2-8f3a-4716abd5722e",
   "metadata": {},
   "outputs": [
    {
     "data": {
      "text/plain": [
       "112151"
      ]
     },
     "execution_count": 33,
     "metadata": {},
     "output_type": "execute_result"
    }
   ],
   "source": [
    "vocab_size"
   ]
  },
  {
   "cell_type": "code",
   "execution_count": 34,
   "id": "496375a1-e81f-4651-aed0-c25371c00e0d",
   "metadata": {},
   "outputs": [],
   "source": [
    "from keras import Sequential\n",
    "from keras import layers"
   ]
  },
  {
   "cell_type": "code",
   "execution_count": 55,
   "id": "042c0309-f025-46c0-a836-4b01ec93b3e9",
   "metadata": {},
   "outputs": [
    {
     "name": "stderr",
     "output_type": "stream",
     "text": [
      "C:\\Users\\sreer\\anaconda3\\Lib\\site-packages\\keras\\src\\layers\\core\\embedding.py:90: UserWarning: Argument `input_length` is deprecated. Just remove it.\n",
      "  warnings.warn(\n"
     ]
    }
   ],
   "source": [
    "model = Sequential()\n",
    "model.add(layers.Embedding(vocab_size,128, input_length = 128)) \n",
    "model.add(layers.LSTM(128, return_sequences=True)) \n",
    "model.add(layers.Dropout(0.2))\n",
    "model.add(layers.LSTM (128))\n",
    "model.add(layers.Dense(64, activation='relu'))\n",
    "model.add(layers.Dropout(0.2))\n",
    "\n",
    "model.add(layers.Dense(1, activation = 'sigmoid'))"
   ]
  },
  {
   "cell_type": "code",
   "execution_count": 57,
   "id": "733e5733-174a-4c74-92c7-911834f1da54",
   "metadata": {},
   "outputs": [
    {
     "data": {
      "text/html": [
       "<pre style=\"white-space:pre;overflow-x:auto;line-height:normal;font-family:Menlo,'DejaVu Sans Mono',consolas,'Courier New',monospace\"><span style=\"font-weight: bold\">Model: \"sequential_2\"</span>\n",
       "</pre>\n"
      ],
      "text/plain": [
       "\u001b[1mModel: \"sequential_2\"\u001b[0m\n"
      ]
     },
     "metadata": {},
     "output_type": "display_data"
    },
    {
     "data": {
      "text/html": [
       "<pre style=\"white-space:pre;overflow-x:auto;line-height:normal;font-family:Menlo,'DejaVu Sans Mono',consolas,'Courier New',monospace\">┏━━━━━━━━━━━━━━━━━━━━━━━━━━━━━━━━━━━━━━┳━━━━━━━━━━━━━━━━━━━━━━━━━━━━━┳━━━━━━━━━━━━━━━━━┓\n",
       "┃<span style=\"font-weight: bold\"> Layer (type)                         </span>┃<span style=\"font-weight: bold\"> Output Shape                </span>┃<span style=\"font-weight: bold\">         Param # </span>┃\n",
       "┡━━━━━━━━━━━━━━━━━━━━━━━━━━━━━━━━━━━━━━╇━━━━━━━━━━━━━━━━━━━━━━━━━━━━━╇━━━━━━━━━━━━━━━━━┩\n",
       "│ embedding_2 (<span style=\"color: #0087ff; text-decoration-color: #0087ff\">Embedding</span>)              │ ?                           │     <span style=\"color: #00af00; text-decoration-color: #00af00\">0</span> (unbuilt) │\n",
       "├──────────────────────────────────────┼─────────────────────────────┼─────────────────┤\n",
       "│ lstm_4 (<span style=\"color: #0087ff; text-decoration-color: #0087ff\">LSTM</span>)                        │ ?                           │     <span style=\"color: #00af00; text-decoration-color: #00af00\">0</span> (unbuilt) │\n",
       "├──────────────────────────────────────┼─────────────────────────────┼─────────────────┤\n",
       "│ dropout_4 (<span style=\"color: #0087ff; text-decoration-color: #0087ff\">Dropout</span>)                  │ ?                           │               <span style=\"color: #00af00; text-decoration-color: #00af00\">0</span> │\n",
       "├──────────────────────────────────────┼─────────────────────────────┼─────────────────┤\n",
       "│ lstm_5 (<span style=\"color: #0087ff; text-decoration-color: #0087ff\">LSTM</span>)                        │ ?                           │     <span style=\"color: #00af00; text-decoration-color: #00af00\">0</span> (unbuilt) │\n",
       "├──────────────────────────────────────┼─────────────────────────────┼─────────────────┤\n",
       "│ dense_4 (<span style=\"color: #0087ff; text-decoration-color: #0087ff\">Dense</span>)                      │ ?                           │     <span style=\"color: #00af00; text-decoration-color: #00af00\">0</span> (unbuilt) │\n",
       "├──────────────────────────────────────┼─────────────────────────────┼─────────────────┤\n",
       "│ dropout_5 (<span style=\"color: #0087ff; text-decoration-color: #0087ff\">Dropout</span>)                  │ ?                           │               <span style=\"color: #00af00; text-decoration-color: #00af00\">0</span> │\n",
       "├──────────────────────────────────────┼─────────────────────────────┼─────────────────┤\n",
       "│ dense_5 (<span style=\"color: #0087ff; text-decoration-color: #0087ff\">Dense</span>)                      │ ?                           │     <span style=\"color: #00af00; text-decoration-color: #00af00\">0</span> (unbuilt) │\n",
       "└──────────────────────────────────────┴─────────────────────────────┴─────────────────┘\n",
       "</pre>\n"
      ],
      "text/plain": [
       "┏━━━━━━━━━━━━━━━━━━━━━━━━━━━━━━━━━━━━━━┳━━━━━━━━━━━━━━━━━━━━━━━━━━━━━┳━━━━━━━━━━━━━━━━━┓\n",
       "┃\u001b[1m \u001b[0m\u001b[1mLayer (type)                        \u001b[0m\u001b[1m \u001b[0m┃\u001b[1m \u001b[0m\u001b[1mOutput Shape               \u001b[0m\u001b[1m \u001b[0m┃\u001b[1m \u001b[0m\u001b[1m        Param #\u001b[0m\u001b[1m \u001b[0m┃\n",
       "┡━━━━━━━━━━━━━━━━━━━━━━━━━━━━━━━━━━━━━━╇━━━━━━━━━━━━━━━━━━━━━━━━━━━━━╇━━━━━━━━━━━━━━━━━┩\n",
       "│ embedding_2 (\u001b[38;5;33mEmbedding\u001b[0m)              │ ?                           │     \u001b[38;5;34m0\u001b[0m (unbuilt) │\n",
       "├──────────────────────────────────────┼─────────────────────────────┼─────────────────┤\n",
       "│ lstm_4 (\u001b[38;5;33mLSTM\u001b[0m)                        │ ?                           │     \u001b[38;5;34m0\u001b[0m (unbuilt) │\n",
       "├──────────────────────────────────────┼─────────────────────────────┼─────────────────┤\n",
       "│ dropout_4 (\u001b[38;5;33mDropout\u001b[0m)                  │ ?                           │               \u001b[38;5;34m0\u001b[0m │\n",
       "├──────────────────────────────────────┼─────────────────────────────┼─────────────────┤\n",
       "│ lstm_5 (\u001b[38;5;33mLSTM\u001b[0m)                        │ ?                           │     \u001b[38;5;34m0\u001b[0m (unbuilt) │\n",
       "├──────────────────────────────────────┼─────────────────────────────┼─────────────────┤\n",
       "│ dense_4 (\u001b[38;5;33mDense\u001b[0m)                      │ ?                           │     \u001b[38;5;34m0\u001b[0m (unbuilt) │\n",
       "├──────────────────────────────────────┼─────────────────────────────┼─────────────────┤\n",
       "│ dropout_5 (\u001b[38;5;33mDropout\u001b[0m)                  │ ?                           │               \u001b[38;5;34m0\u001b[0m │\n",
       "├──────────────────────────────────────┼─────────────────────────────┼─────────────────┤\n",
       "│ dense_5 (\u001b[38;5;33mDense\u001b[0m)                      │ ?                           │     \u001b[38;5;34m0\u001b[0m (unbuilt) │\n",
       "└──────────────────────────────────────┴─────────────────────────────┴─────────────────┘\n"
      ]
     },
     "metadata": {},
     "output_type": "display_data"
    },
    {
     "data": {
      "text/html": [
       "<pre style=\"white-space:pre;overflow-x:auto;line-height:normal;font-family:Menlo,'DejaVu Sans Mono',consolas,'Courier New',monospace\"><span style=\"font-weight: bold\"> Total params: </span><span style=\"color: #00af00; text-decoration-color: #00af00\">0</span> (0.00 B)\n",
       "</pre>\n"
      ],
      "text/plain": [
       "\u001b[1m Total params: \u001b[0m\u001b[38;5;34m0\u001b[0m (0.00 B)\n"
      ]
     },
     "metadata": {},
     "output_type": "display_data"
    },
    {
     "data": {
      "text/html": [
       "<pre style=\"white-space:pre;overflow-x:auto;line-height:normal;font-family:Menlo,'DejaVu Sans Mono',consolas,'Courier New',monospace\"><span style=\"font-weight: bold\"> Trainable params: </span><span style=\"color: #00af00; text-decoration-color: #00af00\">0</span> (0.00 B)\n",
       "</pre>\n"
      ],
      "text/plain": [
       "\u001b[1m Trainable params: \u001b[0m\u001b[38;5;34m0\u001b[0m (0.00 B)\n"
      ]
     },
     "metadata": {},
     "output_type": "display_data"
    },
    {
     "data": {
      "text/html": [
       "<pre style=\"white-space:pre;overflow-x:auto;line-height:normal;font-family:Menlo,'DejaVu Sans Mono',consolas,'Courier New',monospace\"><span style=\"font-weight: bold\"> Non-trainable params: </span><span style=\"color: #00af00; text-decoration-color: #00af00\">0</span> (0.00 B)\n",
       "</pre>\n"
      ],
      "text/plain": [
       "\u001b[1m Non-trainable params: \u001b[0m\u001b[38;5;34m0\u001b[0m (0.00 B)\n"
      ]
     },
     "metadata": {},
     "output_type": "display_data"
    }
   ],
   "source": [
    "model.summary()"
   ]
  },
  {
   "cell_type": "code",
   "execution_count": 59,
   "id": "08dbf864-5306-4e8a-a585-bf03162cee5d",
   "metadata": {},
   "outputs": [],
   "source": [
    "model.compile(loss='binary_crossentropy',optimizer='adam', metrics=['accuracy'])"
   ]
  },
  {
   "cell_type": "code",
   "execution_count": 61,
   "id": "aba72c6a-8914-4143-be41-58677ae93dc7",
   "metadata": {},
   "outputs": [
    {
     "name": "stdout",
     "output_type": "stream",
     "text": [
      "xtrain sahape:(39975, 65)\n",
      "ytrain shape: (39975, 1)\n"
     ]
    }
   ],
   "source": [
    "print(f\"xtrain sahape:{xtrain.shape}\")\n",
    "print (f\"ytrain shape: {ytrain.shape}\")"
   ]
  },
  {
   "cell_type": "code",
   "execution_count": 63,
   "id": "e1845e74-79e1-4718-b38f-8729dfbd1dea",
   "metadata": {},
   "outputs": [
    {
     "name": "stdout",
     "output_type": "stream",
     "text": [
      "Epoch 1/5\n",
      "\u001b[1m1000/1000\u001b[0m \u001b[32m━━━━━━━━━━━━━━━━━━━━\u001b[0m\u001b[37m\u001b[0m \u001b[1m300s\u001b[0m 292ms/step - accuracy: 0.7360 - loss: 0.5021 - val_accuracy: 0.8412 - val_loss: 0.3863\n",
      "Epoch 2/5\n",
      "\u001b[1m1000/1000\u001b[0m \u001b[32m━━━━━━━━━━━━━━━━━━━━\u001b[0m\u001b[37m\u001b[0m \u001b[1m292s\u001b[0m 292ms/step - accuracy: 0.8894 - loss: 0.2735 - val_accuracy: 0.8410 - val_loss: 0.3779\n",
      "Epoch 3/5\n",
      "\u001b[1m1000/1000\u001b[0m \u001b[32m━━━━━━━━━━━━━━━━━━━━\u001b[0m\u001b[37m\u001b[0m \u001b[1m218s\u001b[0m 218ms/step - accuracy: 0.9286 - loss: 0.1897 - val_accuracy: 0.8385 - val_loss: 0.4293\n",
      "Epoch 4/5\n",
      "\u001b[1m1000/1000\u001b[0m \u001b[32m━━━━━━━━━━━━━━━━━━━━\u001b[0m\u001b[37m\u001b[0m \u001b[1m292s\u001b[0m 248ms/step - accuracy: 0.9553 - loss: 0.1265 - val_accuracy: 0.8360 - val_loss: 0.5220\n",
      "Epoch 5/5\n",
      "\u001b[1m1000/1000\u001b[0m \u001b[32m━━━━━━━━━━━━━━━━━━━━\u001b[0m\u001b[37m\u001b[0m \u001b[1m302s\u001b[0m 302ms/step - accuracy: 0.9726 - loss: 0.0832 - val_accuracy: 0.8301 - val_loss: 0.5810\n"
     ]
    },
    {
     "data": {
      "text/plain": [
       "<keras.src.callbacks.history.History at 0x276c0702e70>"
      ]
     },
     "execution_count": 63,
     "metadata": {},
     "output_type": "execute_result"
    }
   ],
   "source": [
    "model.fit(xtrain,ytrain,epochs=5,validation_split=0.2)"
   ]
  },
  {
   "cell_type": "code",
   "execution_count": 64,
   "id": "3062658d-291c-4a5e-9ddc-8519bddc3ec5",
   "metadata": {},
   "outputs": [
    {
     "name": "stdout",
     "output_type": "stream",
     "text": [
      "\u001b[1m313/313\u001b[0m \u001b[32m━━━━━━━━━━━━━━━━━━━━\u001b[0m\u001b[37m\u001b[0m \u001b[1m15s\u001b[0m 45ms/step\n"
     ]
    }
   ],
   "source": [
    "ypred = model.predict(xtest)     "
   ]
  },
  {
   "cell_type": "code",
   "execution_count": 67,
   "id": "17124cb2-e4b3-4faf-8a2b-c0faccdf24dc",
   "metadata": {},
   "outputs": [],
   "source": [
    "ypred = [np.argmax(i) for i in ypred]"
   ]
  },
  {
   "cell_type": "code",
   "execution_count": 69,
   "id": "6214338c-562e-4675-871d-568fb7776668",
   "metadata": {},
   "outputs": [
    {
     "data": {
      "text/plain": [
       "9994"
      ]
     },
     "execution_count": 69,
     "metadata": {},
     "output_type": "execute_result"
    }
   ],
   "source": [
    "len(ytest)"
   ]
  },
  {
   "cell_type": "code",
   "execution_count": 71,
   "id": "2c7c0f20-e70b-45a9-86bb-12037c9f2b46",
   "metadata": {},
   "outputs": [
    {
     "data": {
      "text/plain": [
       "9994"
      ]
     },
     "execution_count": 71,
     "metadata": {},
     "output_type": "execute_result"
    }
   ],
   "source": [
    "len(ypred)"
   ]
  },
  {
   "cell_type": "code",
   "execution_count": 73,
   "id": "36595138-314a-4fc9-9321-e5e0266d2a30",
   "metadata": {},
   "outputs": [],
   "source": [
    "ypred = [np.argmax(i) for i in ypred]"
   ]
  },
  {
   "cell_type": "code",
   "execution_count": 75,
   "id": "af0a38e7-c101-429d-a2c4-076f7cc659cd",
   "metadata": {},
   "outputs": [
    {
     "data": {
      "text/plain": [
       "0"
      ]
     },
     "execution_count": 75,
     "metadata": {},
     "output_type": "execute_result"
    }
   ],
   "source": [
    "ypred[0]"
   ]
  },
  {
   "cell_type": "code",
   "execution_count": 79,
   "id": "d144cbeb-f9a9-410c-8893-b6e7b37408ea",
   "metadata": {},
   "outputs": [],
   "source": [
    "from sklearn.metrics import confusion_matrix, classification_report, accuracy_score              #evaluate the model "
   ]
  },
  {
   "cell_type": "code",
   "execution_count": 81,
   "id": "fad590f7-97b2-4f17-a2a7-c7b88259a80d",
   "metadata": {},
   "outputs": [
    {
     "data": {
      "text/plain": [
       "0.49659795877526514"
      ]
     },
     "execution_count": 81,
     "metadata": {},
     "output_type": "execute_result"
    }
   ],
   "source": [
    "accuracy_score(ytest, ypred)"
   ]
  },
  {
   "cell_type": "code",
   "execution_count": 83,
   "id": "589dc540-f353-4ddf-89e4-dc08b85ba37b",
   "metadata": {},
   "outputs": [
    {
     "data": {
      "image/png": "[encoded data removed]",
      "text/plain": [
       "<Figure size 500x400 with 2 Axes>"
      ]
     },
     "metadata": {},
     "output_type": "display_data"
    }
   ],
   "source": [
    "plt.figure(figsize = (5,4))\n",
    "sns.heatmap(confusion_matrix(ytest, ypred), annot = True, fmt = 'd')                      #confusion matrix\n",
    "plt.show()"
   ]
  },
  {
   "cell_type": "code",
   "execution_count": 85,
   "id": "f0112b0d-34ac-499d-92e4-864b4775e1a1",
   "metadata": {},
   "outputs": [
    {
     "name": "stdout",
     "output_type": "stream",
     "text": [
      "              precision    recall  f1-score   support\n",
      "\n",
      "           0       0.50      1.00      0.66      4963\n",
      "           1       0.00      0.00      0.00      5031\n",
      "\n",
      "    accuracy                           0.50      9994\n",
      "   macro avg       0.25      0.50      0.33      9994\n",
      "weighted avg       0.25      0.50      0.33      9994\n",
      "\n"
     ]
    },
    {
     "name": "stderr",
     "output_type": "stream",
     "text": [
      "C:\\Users\\sreer\\anaconda3\\Lib\\site-packages\\sklearn\\metrics\\_classification.py:1531: UndefinedMetricWarning: Precision is ill-defined and being set to 0.0 in labels with no predicted samples. Use `zero_division` parameter to control this behavior.\n",
      "  _warn_prf(average, modifier, f\"{metric.capitalize()} is\", len(result))\n",
      "C:\\Users\\sreer\\anaconda3\\Lib\\site-packages\\sklearn\\metrics\\_classification.py:1531: UndefinedMetricWarning: Precision is ill-defined and being set to 0.0 in labels with no predicted samples. Use `zero_division` parameter to control this behavior.\n",
      "  _warn_prf(average, modifier, f\"{metric.capitalize()} is\", len(result))\n",
      "C:\\Users\\sreer\\anaconda3\\Lib\\site-packages\\sklearn\\metrics\\_classification.py:1531: UndefinedMetricWarning: Precision is ill-defined and being set to 0.0 in labels with no predicted samples. Use `zero_division` parameter to control this behavior.\n",
      "  _warn_prf(average, modifier, f\"{metric.capitalize()} is\", len(result))\n"
     ]
    }
   ],
   "source": [
    "print(classification_report(ytest, ypred))"
   ]
  },
  {
   "cell_type": "code",
   "execution_count": null,
   "id": "ebe3ecfd-8f4c-4dcc-bc45-e75a84c8a66b",
   "metadata": {},
   "outputs": [],
   "source": []
  }
 ],
 "metadata": {
  "kernelspec": {
   "display_name": "Python 3 (ipykernel)",
   "language": "python",
   "name": "python3"
  },
  "language_info": {
   "codemirror_mode": {
    "name": "ipython",
    "version": 3
   },
   "file_extension": ".py",
   "mimetype": "text/x-python",
   "name": "python",
   "nbconvert_exporter": "python",
   "pygments_lexer": "ipython3",
   "version": "3.12.7"
  }
 },
 "nbformat": 4,
 "nbformat_minor": 5
}
